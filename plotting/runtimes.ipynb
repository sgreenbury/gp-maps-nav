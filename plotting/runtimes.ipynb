{
 "cells": [
  {
   "cell_type": "code",
   "execution_count": null,
   "metadata": {},
   "outputs": [],
   "source": [
    "import glob\n",
    "import os\n",
    "import re\n",
    "from pathlib import Path\n",
    "import numpy as np\n",
    "import pandas as pd\n",
    "\n",
    "extra_path = \"ny/fRNA/fRNA/\""
   ]
  },
  {
   "cell_type": "code",
   "execution_count": null,
   "metadata": {},
   "outputs": [],
   "source": [
    "def get_times(\n",
    "    path=\"ny/fRNA/fRNA/180414_r_assignment_parallel_L40_2e6_NO-NEUTRAL-MUTS/180414_r_assignment_parallel_L40_2e6/data_out/\",\n",
    "):\n",
    "    times = pd.concat(\n",
    "        [\n",
    "            pd.read_csv(\n",
    "                el,\n",
    "                sep=\"\\t\",\n",
    "                header=None,\n",
    "            )\n",
    "            for el in glob.glob(str(Path(path) / \"times*\"))\n",
    "        ],\n",
    "        axis=0,\n",
    "    )\n",
    "\n",
    "    times[1] = times[1].str.replace(r\"^[a-zA-Z\\s]*time: \", \"\", regex=True)\n",
    "    times[2] = times[2].str.replace(r\"^[a-zA-Z\\s]*time: \", \"\", regex=True)\n",
    "    times[3] = times[3].str.replace(\"^[a-zA-Z\\s]*time: \", \"\", regex=True)\n",
    "    times = times.astype(float)\n",
    "    times[\"total_mins\"] = (times[3] / (60)).round(1)\n",
    "    times[\"total_hours\"] = (times[3] / (60 * 60)).round(1)\n",
    "    times[\"total_days\"] = (times[3] / (60 * 60 * 24)).round(1)\n",
    "    times[\"Target\"] = np.repeat(np.arange(50), 20)\n",
    "    times[\"Source\"] = np.tile(np.arange(20), 50)\n",
    "\n",
    "\n",
    "    return times.drop(columns=[0, 1, 2, 3]).set_index([\"Target\", \"Source\"])\n",
    "\n",
    "def print_times(times, label):\n",
    "    print(\"-\"*50)\n",
    "    print(f\"{label} times:\")\n",
    "    print(\"-\"*50)\n",
    "    print(\"Description of times for single searches:\")\n",
    "    print(times.describe())\n",
    "    print(\"-\"*50)\n",
    "    print(\"Description of times for all 20 sources:\")\n",
    "    print(times.groupby(\"Target\").sum().describe())\n",
    "    print(\"-\"*50)\n",
    "    # \"../data/raw_output/landscape/frna/20000/20220423_outs_mono_no-neut-mat/random/l20/n-1/\n",
    "for l in [20, 30, 40]:\n",
    "    times = get_times(f\"ny/fRNA/fRNA/180414_r_assignment_parallel_L{l}_2e6/data_out/\")\n",
    "    print_times(times, f\"L={l}, 2e6\")\n",
    "    times = get_times(f\"gp_maps_nav_data/data/raw_output/landscape/frna/20000/20220423_outs_mono_no-neut-mat/random/l{l}/n-1/\")\n",
    "    print_times(times, f\"L={l}, 2e4\")"
   ]
  },
  {
   "cell_type": "code",
   "execution_count": null,
   "metadata": {},
   "outputs": [],
   "source": [
    "for l in [20, 30, 40]:\n",
    "    times = get_times(f\"gp_maps_nav_data/data/raw_output/20220213_outs_rna_mono_rdo/random/l{l}/n100000/\")\n",
    "    print_times(times, f\"L={l}, mono evolution:\")"
   ]
  },
  {
   "cell_type": "code",
   "execution_count": null,
   "metadata": {},
   "outputs": [],
   "source": []
  }
 ],
 "metadata": {
  "kernelspec": {
   "display_name": "Python 3",
   "language": "python",
   "name": "python3"
  },
  "language_info": {
   "codemirror_mode": {
    "name": "ipython",
    "version": 3
   },
   "file_extension": ".py",
   "mimetype": "text/x-python",
   "name": "python",
   "nbconvert_exporter": "python",
   "pygments_lexer": "ipython3",
   "version": "3.8.8"
  }
 },
 "nbformat": 4,
 "nbformat_minor": 4
}
